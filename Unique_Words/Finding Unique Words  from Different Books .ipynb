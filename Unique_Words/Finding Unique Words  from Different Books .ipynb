{
 "cells": [
  {
   "cell_type": "code",
   "execution_count": 53,
   "metadata": {},
   "outputs": [],
   "source": [
    "import os \n",
    "import pandas as pd \n",
    "import matplotlib.pyplot as plt \n",
    "book_dir = './Books/'    "
   ]
  },
  {
   "cell_type": "code",
   "execution_count": 40,
   "metadata": {},
   "outputs": [],
   "source": [
    "def count_words(text): \n",
    "    \"\"\"\n",
    "    Function to count the unique words from text file. Skip punctuations.\n",
    "    \n",
    "    Params: \n",
    "        text: Strings\n",
    "    Return: \n",
    "        Return dictionary where keys are unique words and values are counts.\n",
    "    \"\"\"\n",
    "    text = text.lower() \n",
    "    skips = [\".\", \",\", \";\", \":\", \" '' \", '\"\"']\n",
    "    for skip in skips: \n",
    "        text = text.replace(skip, \"\")\n",
    "        \n",
    "    word_counts = {}\n",
    "    for word in text.split(' '):\n",
    "        if word in word_counts: \n",
    "            word_counts[word] += 1 \n",
    "        else: \n",
    "            word_counts[word] = 1 \n",
    "    return word_counts"
   ]
  },
  {
   "cell_type": "code",
   "execution_count": 41,
   "metadata": {},
   "outputs": [],
   "source": [
    "def word_stats(word_counts): \n",
    "    \"\"\"\n",
    "    Function to find the number of unique words and word frequencies. \n",
    "    \n",
    "    Params: \n",
    "        word_counts: It is a dictionary where keys are the unique words and values are counts \n",
    "    \"\"\"\n",
    "    num_unique = len(word_counts)\n",
    "    counts = word_counts.values()\n",
    "    return (num_unique, counts)"
   ]
  },
  {
   "cell_type": "code",
   "execution_count": 42,
   "metadata": {},
   "outputs": [],
   "source": [
    "def read_book(title_path): \n",
    "    \"\"\"\n",
    "    Read a book and return as a string \n",
    "    Params:\n",
    "        title_path: path of book file. \n",
    "    \"\"\"\n",
    "    with open(title_path, \"r\", encoding='utf8') as current_file: \n",
    "        text = current_file.read()\n",
    "        text = text.replace(\"\\n\", \"\")\n",
    "        text = text.replace(\"\\t\", \"\")\n",
    "    return text \n",
    "        "
   ]
  },
  {
   "cell_type": "code",
   "execution_count": 43,
   "metadata": {},
   "outputs": [],
   "source": [
    "text = read_book('./Books/English/shakespeare/Romeo and Juliet.txt')"
   ]
  },
  {
   "cell_type": "code",
   "execution_count": 44,
   "metadata": {},
   "outputs": [
    {
     "data": {
      "text/plain": [
       "169275"
      ]
     },
     "execution_count": 44,
     "metadata": {},
     "output_type": "execute_result"
    }
   ],
   "source": [
    "len(text)"
   ]
  },
  {
   "cell_type": "code",
   "execution_count": 46,
   "metadata": {},
   "outputs": [],
   "source": [
    "word_counts = count_words(text)"
   ]
  },
  {
   "cell_type": "code",
   "execution_count": 47,
   "metadata": {},
   "outputs": [],
   "source": [
    "(num_unique, counts) = word_stats(word_counts)"
   ]
  },
  {
   "cell_type": "code",
   "execution_count": 48,
   "metadata": {},
   "outputs": [
    {
     "data": {
      "text/plain": [
       "5231"
      ]
     },
     "execution_count": 48,
     "metadata": {},
     "output_type": "execute_result"
    }
   ],
   "source": [
    "num_unique"
   ]
  },
  {
   "cell_type": "code",
   "execution_count": 49,
   "metadata": {},
   "outputs": [
    {
     "data": {
      "text/plain": [
       "40776"
      ]
     },
     "execution_count": 49,
     "metadata": {},
     "output_type": "execute_result"
    }
   ],
   "source": [
    "sum(counts)"
   ]
  },
  {
   "cell_type": "code",
   "execution_count": 30,
   "metadata": {},
   "outputs": [
    {
     "data": {
      "text/plain": [
       "['Portuguese', 'French', 'German', 'English']"
      ]
     },
     "execution_count": 30,
     "metadata": {},
     "output_type": "execute_result"
    }
   ],
   "source": [
    "# sub_dir: languages \n",
    "os.listdir(book_dir) "
   ]
  },
  {
   "cell_type": "code",
   "execution_count": 31,
   "metadata": {},
   "outputs": [
    {
     "name": "stdout",
     "output_type": "stream",
     "text": [
      "./Books//Portuguese/branco/Carlota Angela.txt\n",
      "./Books//Portuguese/branco/Estrellas Prop°cias.txt\n",
      "./Books//Portuguese/branco/O Regicida.txt\n",
      "./Books//Portuguese/branco/Estrellas Funestas.txt\n",
      "./Books//Portuguese/branco/Livro de Consolação.txt\n",
      "./Books//Portuguese/branco/O que fazem mulheres.txt\n",
      "./Books//Portuguese/branco/A Neta do Arcediago.txt\n",
      "./Books//Portuguese/branco/A Queda d'um Anjo.txt\n",
      "./Books//Portuguese/branco/Lagrimas Abenáoadas.txt\n",
      "./Books//Portuguese/branco/O Olho de Vidro.txt\n",
      "./Books//Portuguese/branco/Agulha em Palheiro.txt\n",
      "./Books//Portuguese/branco/Annos de Prosa.txt\n",
      "./Books//Portuguese/branco/Amor de Perdição.txt\n",
      "./Books//Portuguese/branco/Scenas Contemporaneas.txt\n",
      "./Books//Portuguese/branco/Amor de Salvação.txt\n",
      "./Books//Portuguese/branco/A Filha do Arcediago.txt\n",
      "./Books//Portuguese/Queir¢s/Os Maias.txt\n",
      "./Books//Portuguese/Queir¢s/O Mandarim.txt\n",
      "./Books//Portuguese/Queir¢s/A Illustre Casa de Ramires.txt\n",
      "./Books//Portuguese/Queir¢s/A Rel°quia.txt\n",
      "./Books//Portuguese/Queir¢s/O crime do padre Amaro.txt\n",
      "./Books//Portuguese/Queir¢s/A correspondància de Fradique Mendes.txt\n",
      "./Books//Portuguese/Queir¢s/Cartas de Inglaterra.txt\n",
      "./Books//Portuguese/Queir¢s/A Cidade e as Serras.txt\n",
      "./Books//Portuguese/Queir¢s/O Primo Bazilio.txt\n",
      "./Books//Portuguese/dinis/Uma fam°lia ingleza.txt\n",
      "./Books//Portuguese/dinis/Os fidalgos da Casa Mourisca.txt\n",
      "./Books//Portuguese/dinis/A Morgadinha dos Cannaviaes.txt\n",
      "./Books//Portuguese/shakespeare/Hamlet.txt\n",
      "./Books//French/chevalier/Les derniers Iroquois.txt\n",
      "./Books//French/chevalier/La fille des indiens rouges.txt\n",
      "./Books//French/chevalier/La capitaine.txt\n",
      "./Books//French/chevalier/Le chasseur noir.txt\n",
      "./Books//French/chevalier/L'åle de sable.txt\n",
      "./Books//French/chevalier/La fille du pirate.txt\n",
      "./Books//French/chevalier/L'enfer et le paradis de l'autre monde.txt\n",
      "./Books//French/sand/Mattea.txt\n",
      "./Books//French/sand/Oeuvres illustrÇes de George Sand.txt\n",
      "./Books//French/sand/La Marquise.txt\n",
      "./Books//French/sand/Metella.txt\n",
      "./Books//French/sand/L' Orco.txt\n",
      "./Books//French/sand/Le poâme de Myrza.txt\n",
      "./Books//French/sand/La Coupe; Lupo Liverani; Le Toast; Garnier; Le Contrebandier; La Ràverie Ö Paris.txt\n",
      "./Books//French/sand/Pauline.txt\n",
      "./Books//French/sand/cora.txt\n",
      "./Books//French/sand/Jacques le fataliste et son maåtre.txt\n",
      "./Books//French/sand/Le Piccinino.txt\n",
      "./Books//French/de Maupassant/La petite roque.txt\n",
      "./Books//French/de Maupassant/Le Horla.txt\n",
      "./Books//French/de Maupassant/Boule de Suif.txt\n",
      "./Books//French/de Maupassant/Contes de la Becasse.txt\n",
      "./Books//French/de Maupassant/Œuvres complètes de Guy de Maupassant.txt\n",
      "./Books//French/de Maupassant/Claire de Lune.txt\n",
      "./Books//French/de Maupassant/La Maison Tellier.txt\n",
      "./Books//French/de Maupassant/La Main Gauche.txt\n",
      "./Books//French/de Maupassant/L'inutile beautÇ.txt\n",
      "./Books//French/diderot/Ceci n'est pas un conte.txt\n",
      "./Books//French/diderot/Entretien d'un päre avec ses enfants.txt\n",
      "./Books//French/diderot/Les deux amis de Bourbonne.txt\n",
      "./Books//French/diderot/Regrets sur ma vieille robe de chambre.txt\n",
      "./Books//French/diderot/L'oiseau blanc.txt\n",
      "./Books//German/schiller/Turandot, Prinzessin von China.txt\n",
      "./Books//German/schiller/Wallensteins Lager.txt\n",
      "./Books//German/schiller/Wallensteins Tod.txt\n",
      "./Books//German/schiller/Die Piccolomini.txt\n",
      "./Books//German/schiller/Die Huldigung der KÅnste.txt\n",
      "./Books//German/schiller/Die Jungfrau von Orleans.txt\n",
      "./Books//German/schiller/Der Parasit, oder die Kunst, sein GlÅck zu machen.txt\n",
      "./Books//German/schiller/Der Neffe als Onkel.txt\n",
      "./Books//German/schiller/die braut von messina.txt\n",
      "./Books//German/schiller/Kabale und Liebe.txt\n",
      "./Books//German/schiller/Die Verschwîrung des Fiesco zu Genua.txt\n",
      "./Books//German/lessing/hamburgische dramaturgie.txt\n",
      "./Books//German/lessing/der freigeist.txt\n",
      "./Books//German/lessing/minna von barnhelm.txt\n",
      "./Books//German/lessing/die juden.txt\n",
      "./Books//German/lessing/miss sara sampson.txt\n",
      "./Books//German/lessing/philotas.txt\n",
      "./Books//German/lessing/emilia galotti.txt\n",
      "./Books//German/lessing/der junge gelehrte.txt\n",
      "./Books//German/raimund/Der Alpenkînig und der Menschenfeind.txt\n",
      "./Books//German/raimund/Der Diamant des Geisterkînigs.txt\n",
      "./Books//German/raimund/Moisasurs Zauberfluch.txt\n",
      "./Books//German/raimund/Die gefesselte Phantasie.txt\n",
      "./Books//German/raimund/Die unheilbringende Krone.txt\n",
      "./Books//German/raimund/Der Barometermacher auf der Zauberinsel.txt\n",
      "./Books//German/raimund/Der Verschwender.txt\n",
      "./Books//German/raimund/Das MÑdchen aus der Feenwelt.txt\n",
      "./Books//German/shakespeare/Hamlet.txt\n",
      "./Books//German/shakespeare/Der Kaufmann von Venedig.txt\n",
      "./Books//German/shakespeare/Romeo und Julia.txt\n",
      "./Books//German/shakespeare/Othello.txt\n",
      "./Books//German/shakespeare/Richard III.txt\n",
      "./Books//German/shakespeare/Ein Sommernachtstraum.txt\n",
      "./Books//German/shakespeare/Macbeth.txt\n",
      "./Books//English/shakespeare/Hamlet.txt\n",
      "./Books//English/shakespeare/Romeo and Juliet.txt\n",
      "./Books//English/shakespeare/A Midsummer Night's Dream.txt\n",
      "./Books//English/shakespeare/The Merchant of Venice.txt\n",
      "./Books//English/shakespeare/Othello.txt\n",
      "./Books//English/shakespeare/Richard III.txt\n",
      "./Books//English/shakespeare/Macbeth.txt\n"
     ]
    }
   ],
   "source": [
    "for language in os.listdir(book_dir):\n",
    "    for author in os.listdir(book_dir + \"/\" + language): \n",
    "        for title in os.listdir(book_dir + \"/\" + language + \"/\" + author): \n",
    "            inputfile = book_dir + \"/\" + language + \"/\" + author + \"/\" + title\n",
    "            print(inputfile)"
   ]
  },
  {
   "cell_type": "code",
   "execution_count": 52,
   "metadata": {},
   "outputs": [
    {
     "name": "stdout",
     "output_type": "stream",
     "text": [
      "./Books//Portuguese/branco/Carlota Angela.txt\n",
      "./Books//Portuguese/branco/Estrellas Prop°cias.txt\n",
      "./Books//Portuguese/branco/O Regicida.txt\n",
      "./Books//Portuguese/branco/Estrellas Funestas.txt\n",
      "./Books//Portuguese/branco/Livro de Consolação.txt\n",
      "./Books//Portuguese/branco/O que fazem mulheres.txt\n",
      "./Books//Portuguese/branco/A Neta do Arcediago.txt\n",
      "./Books//Portuguese/branco/A Queda d'um Anjo.txt\n",
      "./Books//Portuguese/branco/Lagrimas Abenáoadas.txt\n",
      "./Books//Portuguese/branco/O Olho de Vidro.txt\n",
      "./Books//Portuguese/branco/Agulha em Palheiro.txt\n",
      "./Books//Portuguese/branco/Annos de Prosa.txt\n",
      "./Books//Portuguese/branco/Amor de Perdição.txt\n",
      "./Books//Portuguese/branco/Scenas Contemporaneas.txt\n",
      "./Books//Portuguese/branco/Amor de Salvação.txt\n",
      "./Books//Portuguese/branco/A Filha do Arcediago.txt\n",
      "./Books//Portuguese/Queir¢s/Os Maias.txt\n",
      "./Books//Portuguese/Queir¢s/O Mandarim.txt\n",
      "./Books//Portuguese/Queir¢s/A Illustre Casa de Ramires.txt\n",
      "./Books//Portuguese/Queir¢s/A Rel°quia.txt\n",
      "./Books//Portuguese/Queir¢s/O crime do padre Amaro.txt\n",
      "./Books//Portuguese/Queir¢s/A correspondància de Fradique Mendes.txt\n",
      "./Books//Portuguese/Queir¢s/Cartas de Inglaterra.txt\n",
      "./Books//Portuguese/Queir¢s/A Cidade e as Serras.txt\n",
      "./Books//Portuguese/Queir¢s/O Primo Bazilio.txt\n",
      "./Books//Portuguese/dinis/Uma fam°lia ingleza.txt\n",
      "./Books//Portuguese/dinis/Os fidalgos da Casa Mourisca.txt\n",
      "./Books//Portuguese/dinis/A Morgadinha dos Cannaviaes.txt\n",
      "./Books//Portuguese/shakespeare/Hamlet.txt\n",
      "./Books//French/chevalier/Les derniers Iroquois.txt\n",
      "./Books//French/chevalier/La fille des indiens rouges.txt\n",
      "./Books//French/chevalier/La capitaine.txt\n",
      "./Books//French/chevalier/Le chasseur noir.txt\n",
      "./Books//French/chevalier/L'åle de sable.txt\n",
      "./Books//French/chevalier/La fille du pirate.txt\n",
      "./Books//French/chevalier/L'enfer et le paradis de l'autre monde.txt\n",
      "./Books//French/sand/Mattea.txt\n",
      "./Books//French/sand/Oeuvres illustrÇes de George Sand.txt\n",
      "./Books//French/sand/La Marquise.txt\n",
      "./Books//French/sand/Metella.txt\n",
      "./Books//French/sand/L' Orco.txt\n",
      "./Books//French/sand/Le poâme de Myrza.txt\n",
      "./Books//French/sand/La Coupe; Lupo Liverani; Le Toast; Garnier; Le Contrebandier; La Ràverie Ö Paris.txt\n",
      "./Books//French/sand/Pauline.txt\n",
      "./Books//French/sand/cora.txt\n",
      "./Books//French/sand/Jacques le fataliste et son maåtre.txt\n",
      "./Books//French/sand/Le Piccinino.txt\n",
      "./Books//French/de Maupassant/La petite roque.txt\n",
      "./Books//French/de Maupassant/Le Horla.txt\n",
      "./Books//French/de Maupassant/Boule de Suif.txt\n",
      "./Books//French/de Maupassant/Contes de la Becasse.txt\n",
      "./Books//French/de Maupassant/Œuvres complètes de Guy de Maupassant.txt\n",
      "./Books//French/de Maupassant/Claire de Lune.txt\n",
      "./Books//French/de Maupassant/La Maison Tellier.txt\n",
      "./Books//French/de Maupassant/La Main Gauche.txt\n",
      "./Books//French/de Maupassant/L'inutile beautÇ.txt\n",
      "./Books//French/diderot/Ceci n'est pas un conte.txt\n",
      "./Books//French/diderot/Entretien d'un päre avec ses enfants.txt\n",
      "./Books//French/diderot/Les deux amis de Bourbonne.txt\n",
      "./Books//French/diderot/Regrets sur ma vieille robe de chambre.txt\n",
      "./Books//French/diderot/L'oiseau blanc.txt\n",
      "./Books//German/schiller/Turandot, Prinzessin von China.txt\n",
      "./Books//German/schiller/Wallensteins Lager.txt\n",
      "./Books//German/schiller/Wallensteins Tod.txt\n",
      "./Books//German/schiller/Die Piccolomini.txt\n",
      "./Books//German/schiller/Die Huldigung der KÅnste.txt\n",
      "./Books//German/schiller/Die Jungfrau von Orleans.txt\n",
      "./Books//German/schiller/Der Parasit, oder die Kunst, sein GlÅck zu machen.txt\n",
      "./Books//German/schiller/Der Neffe als Onkel.txt\n",
      "./Books//German/schiller/die braut von messina.txt\n",
      "./Books//German/schiller/Kabale und Liebe.txt\n",
      "./Books//German/schiller/Die Verschwîrung des Fiesco zu Genua.txt\n",
      "./Books//German/lessing/hamburgische dramaturgie.txt\n",
      "./Books//German/lessing/der freigeist.txt\n",
      "./Books//German/lessing/minna von barnhelm.txt\n",
      "./Books//German/lessing/die juden.txt\n",
      "./Books//German/lessing/miss sara sampson.txt\n",
      "./Books//German/lessing/philotas.txt\n",
      "./Books//German/lessing/emilia galotti.txt\n",
      "./Books//German/lessing/der junge gelehrte.txt\n",
      "./Books//German/raimund/Der Alpenkînig und der Menschenfeind.txt\n",
      "./Books//German/raimund/Der Diamant des Geisterkînigs.txt\n",
      "./Books//German/raimund/Moisasurs Zauberfluch.txt\n",
      "./Books//German/raimund/Die gefesselte Phantasie.txt\n",
      "./Books//German/raimund/Die unheilbringende Krone.txt\n",
      "./Books//German/raimund/Der Barometermacher auf der Zauberinsel.txt\n",
      "./Books//German/raimund/Der Verschwender.txt\n",
      "./Books//German/raimund/Das MÑdchen aus der Feenwelt.txt\n",
      "./Books//German/shakespeare/Hamlet.txt\n",
      "./Books//German/shakespeare/Der Kaufmann von Venedig.txt\n",
      "./Books//German/shakespeare/Romeo und Julia.txt\n",
      "./Books//German/shakespeare/Othello.txt\n",
      "./Books//German/shakespeare/Richard III.txt\n",
      "./Books//German/shakespeare/Ein Sommernachtstraum.txt\n",
      "./Books//German/shakespeare/Macbeth.txt\n",
      "./Books//English/shakespeare/Hamlet.txt\n",
      "./Books//English/shakespeare/Romeo and Juliet.txt\n",
      "./Books//English/shakespeare/A Midsummer Night's Dream.txt\n",
      "./Books//English/shakespeare/The Merchant of Venice.txt\n",
      "./Books//English/shakespeare/Othello.txt\n",
      "./Books//English/shakespeare/Richard III.txt\n",
      "./Books//English/shakespeare/Macbeth.txt\n"
     ]
    }
   ],
   "source": [
    "for language in os.listdir(book_dir):\n",
    "    for author in os.listdir(book_dir + \"/\" + language): \n",
    "        for title in os.listdir(book_dir + \"/\" + language + \"/\" + author): \n",
    "            inputfile = book_dir + \"/\" + language + \"/\" + author + \"/\" + title\n",
    "            print(inputfile)\n",
    "            text = read_book(inputfile)\n",
    "            (num_unique, counts) = word_stats(count_words(text)) \n",
    "            "
   ]
  },
  {
   "cell_type": "code",
   "execution_count": 55,
   "metadata": {},
   "outputs": [],
   "source": [
    "stats = pd.DataFrame(columns=(\"language\", \"author\", \"title\", \"length\", \"unique\"))\n",
    "title_num = 1 \n",
    "for language in os.listdir(book_dir):\n",
    "    for author in os.listdir(book_dir + \"/\" + language): \n",
    "        for title in os.listdir(book_dir + \"/\" + language + \"/\" + author): \n",
    "            inputfile = book_dir + \"/\" + language + \"/\" + author + \"/\" + title\n",
    "            text = read_book(inputfile)\n",
    "            (num_unique, counts) = word_stats(count_words(text)) \n",
    "            stats.loc[title_num] = language, author, title, sum(counts), num_unique\n",
    "            title_num += 1 "
   ]
  },
  {
   "cell_type": "code",
   "execution_count": 57,
   "metadata": {},
   "outputs": [
    {
     "data": {
      "text/html": [
       "<div>\n",
       "<style scoped>\n",
       "    .dataframe tbody tr th:only-of-type {\n",
       "        vertical-align: middle;\n",
       "    }\n",
       "\n",
       "    .dataframe tbody tr th {\n",
       "        vertical-align: top;\n",
       "    }\n",
       "\n",
       "    .dataframe thead th {\n",
       "        text-align: right;\n",
       "    }\n",
       "</style>\n",
       "<table border=\"1\" class=\"dataframe\">\n",
       "  <thead>\n",
       "    <tr style=\"text-align: right;\">\n",
       "      <th></th>\n",
       "      <th>language</th>\n",
       "      <th>author</th>\n",
       "      <th>title</th>\n",
       "      <th>length</th>\n",
       "      <th>unique</th>\n",
       "    </tr>\n",
       "  </thead>\n",
       "  <tbody>\n",
       "    <tr>\n",
       "      <th>1</th>\n",
       "      <td>Portuguese</td>\n",
       "      <td>branco</td>\n",
       "      <td>Carlota Angela.txt</td>\n",
       "      <td>46927</td>\n",
       "      <td>13467</td>\n",
       "    </tr>\n",
       "    <tr>\n",
       "      <th>2</th>\n",
       "      <td>Portuguese</td>\n",
       "      <td>branco</td>\n",
       "      <td>Estrellas Prop°cias.txt</td>\n",
       "      <td>43445</td>\n",
       "      <td>12487</td>\n",
       "    </tr>\n",
       "    <tr>\n",
       "      <th>3</th>\n",
       "      <td>Portuguese</td>\n",
       "      <td>branco</td>\n",
       "      <td>O Regicida.txt</td>\n",
       "      <td>50751</td>\n",
       "      <td>14802</td>\n",
       "    </tr>\n",
       "    <tr>\n",
       "      <th>4</th>\n",
       "      <td>Portuguese</td>\n",
       "      <td>branco</td>\n",
       "      <td>Estrellas Funestas.txt</td>\n",
       "      <td>46709</td>\n",
       "      <td>13461</td>\n",
       "    </tr>\n",
       "    <tr>\n",
       "      <th>5</th>\n",
       "      <td>Portuguese</td>\n",
       "      <td>branco</td>\n",
       "      <td>Livro de Consolação.txt</td>\n",
       "      <td>54151</td>\n",
       "      <td>15883</td>\n",
       "    </tr>\n",
       "  </tbody>\n",
       "</table>\n",
       "</div>"
      ],
      "text/plain": [
       "     language  author                      title length unique\n",
       "1  Portuguese  branco         Carlota Angela.txt  46927  13467\n",
       "2  Portuguese  branco    Estrellas Prop°cias.txt  43445  12487\n",
       "3  Portuguese  branco             O Regicida.txt  50751  14802\n",
       "4  Portuguese  branco     Estrellas Funestas.txt  46709  13461\n",
       "5  Portuguese  branco  Livro de Consolação.txt  54151  15883"
      ]
     },
     "execution_count": 57,
     "metadata": {},
     "output_type": "execute_result"
    }
   ],
   "source": [
    "stats.head() "
   ]
  },
  {
   "cell_type": "code",
   "execution_count": 58,
   "metadata": {},
   "outputs": [],
   "source": [
    "stats = pd.DataFrame(columns=(\"language\", \"author\", \"title\", \"length\", \"unique\"))\n",
    "title_num = 1 \n",
    "for language in os.listdir(book_dir):\n",
    "    for author in os.listdir(book_dir + \"/\" + language): \n",
    "        for title in os.listdir(book_dir + \"/\" + language + \"/\" + author): \n",
    "            inputfile = book_dir + \"/\" + language + \"/\" + author + \"/\" + title\n",
    "            text = read_book(inputfile)\n",
    "            (num_unique, counts) = word_stats(count_words(text)) \n",
    "            stats.loc[title_num] = language, author.capitalize(), title.replace(\".txt\", \"\"), sum(counts), num_unique\n",
    "            title_num += 1 "
   ]
  },
  {
   "cell_type": "code",
   "execution_count": 60,
   "metadata": {},
   "outputs": [
    {
     "data": {
      "text/html": [
       "<div>\n",
       "<style scoped>\n",
       "    .dataframe tbody tr th:only-of-type {\n",
       "        vertical-align: middle;\n",
       "    }\n",
       "\n",
       "    .dataframe tbody tr th {\n",
       "        vertical-align: top;\n",
       "    }\n",
       "\n",
       "    .dataframe thead th {\n",
       "        text-align: right;\n",
       "    }\n",
       "</style>\n",
       "<table border=\"1\" class=\"dataframe\">\n",
       "  <thead>\n",
       "    <tr style=\"text-align: right;\">\n",
       "      <th></th>\n",
       "      <th>language</th>\n",
       "      <th>author</th>\n",
       "      <th>title</th>\n",
       "      <th>length</th>\n",
       "      <th>unique</th>\n",
       "    </tr>\n",
       "  </thead>\n",
       "  <tbody>\n",
       "    <tr>\n",
       "      <th>1</th>\n",
       "      <td>Portuguese</td>\n",
       "      <td>Branco</td>\n",
       "      <td>Carlota Angela</td>\n",
       "      <td>46927</td>\n",
       "      <td>13467</td>\n",
       "    </tr>\n",
       "    <tr>\n",
       "      <th>2</th>\n",
       "      <td>Portuguese</td>\n",
       "      <td>Branco</td>\n",
       "      <td>Estrellas Prop°cias</td>\n",
       "      <td>43445</td>\n",
       "      <td>12487</td>\n",
       "    </tr>\n",
       "    <tr>\n",
       "      <th>3</th>\n",
       "      <td>Portuguese</td>\n",
       "      <td>Branco</td>\n",
       "      <td>O Regicida</td>\n",
       "      <td>50751</td>\n",
       "      <td>14802</td>\n",
       "    </tr>\n",
       "    <tr>\n",
       "      <th>4</th>\n",
       "      <td>Portuguese</td>\n",
       "      <td>Branco</td>\n",
       "      <td>Estrellas Funestas</td>\n",
       "      <td>46709</td>\n",
       "      <td>13461</td>\n",
       "    </tr>\n",
       "    <tr>\n",
       "      <th>5</th>\n",
       "      <td>Portuguese</td>\n",
       "      <td>Branco</td>\n",
       "      <td>Livro de Consolação</td>\n",
       "      <td>54151</td>\n",
       "      <td>15883</td>\n",
       "    </tr>\n",
       "  </tbody>\n",
       "</table>\n",
       "</div>"
      ],
      "text/plain": [
       "     language  author                  title length unique\n",
       "1  Portuguese  Branco         Carlota Angela  46927  13467\n",
       "2  Portuguese  Branco    Estrellas Prop°cias  43445  12487\n",
       "3  Portuguese  Branco             O Regicida  50751  14802\n",
       "4  Portuguese  Branco     Estrellas Funestas  46709  13461\n",
       "5  Portuguese  Branco  Livro de Consolação  54151  15883"
      ]
     },
     "execution_count": 60,
     "metadata": {},
     "output_type": "execute_result"
    }
   ],
   "source": [
    "stats.head() "
   ]
  },
  {
   "cell_type": "code",
   "execution_count": 63,
   "metadata": {},
   "outputs": [
    {
     "data": {
      "image/png": "[encoded data removed]",
      "text/plain": [
       "<Figure size 432x288 with 1 Axes>"
      ]
     },
     "metadata": {
      "needs_background": "light"
     },
     "output_type": "display_data"
    }
   ],
   "source": [
    "plt.plot(stats.length, stats.unique, 'bo')\n",
    "plt.show() "
   ]
  },
  {
   "cell_type": "code",
   "execution_count": 64,
   "metadata": {},
   "outputs": [
    {
     "data": {
      "image/png": "[encoded data removed]",
      "text/plain": [
       "<Figure size 432x288 with 1 Axes>"
      ]
     },
     "metadata": {
      "needs_background": "light"
     },
     "output_type": "display_data"
    }
   ],
   "source": [
    "plt.loglog(stats.length, stats.unique, 'bo')\n",
    "plt.show() "
   ]
  },
  {
   "cell_type": "code",
   "execution_count": 65,
   "metadata": {},
   "outputs": [
    {
     "data": {
      "text/html": [
       "<div>\n",
       "<style scoped>\n",
       "    .dataframe tbody tr th:only-of-type {\n",
       "        vertical-align: middle;\n",
       "    }\n",
       "\n",
       "    .dataframe tbody tr th {\n",
       "        vertical-align: top;\n",
       "    }\n",
       "\n",
       "    .dataframe thead th {\n",
       "        text-align: right;\n",
       "    }\n",
       "</style>\n",
       "<table border=\"1\" class=\"dataframe\">\n",
       "  <thead>\n",
       "    <tr style=\"text-align: right;\">\n",
       "      <th></th>\n",
       "      <th>language</th>\n",
       "      <th>author</th>\n",
       "      <th>title</th>\n",
       "      <th>length</th>\n",
       "      <th>unique</th>\n",
       "    </tr>\n",
       "  </thead>\n",
       "  <tbody>\n",
       "    <tr>\n",
       "      <th>96</th>\n",
       "      <td>English</td>\n",
       "      <td>Shakespeare</td>\n",
       "      <td>Hamlet</td>\n",
       "      <td>28551</td>\n",
       "      <td>6776</td>\n",
       "    </tr>\n",
       "    <tr>\n",
       "      <th>97</th>\n",
       "      <td>English</td>\n",
       "      <td>Shakespeare</td>\n",
       "      <td>Romeo and Juliet</td>\n",
       "      <td>40776</td>\n",
       "      <td>5231</td>\n",
       "    </tr>\n",
       "    <tr>\n",
       "      <th>98</th>\n",
       "      <td>English</td>\n",
       "      <td>Shakespeare</td>\n",
       "      <td>A Midsummer Night's Dream</td>\n",
       "      <td>16103</td>\n",
       "      <td>4345</td>\n",
       "    </tr>\n",
       "    <tr>\n",
       "      <th>99</th>\n",
       "      <td>English</td>\n",
       "      <td>Shakespeare</td>\n",
       "      <td>The Merchant of Venice</td>\n",
       "      <td>20949</td>\n",
       "      <td>4978</td>\n",
       "    </tr>\n",
       "    <tr>\n",
       "      <th>100</th>\n",
       "      <td>English</td>\n",
       "      <td>Shakespeare</td>\n",
       "      <td>Othello</td>\n",
       "      <td>26590</td>\n",
       "      <td>5898</td>\n",
       "    </tr>\n",
       "    <tr>\n",
       "      <th>101</th>\n",
       "      <td>English</td>\n",
       "      <td>Shakespeare</td>\n",
       "      <td>Richard III</td>\n",
       "      <td>48315</td>\n",
       "      <td>5541</td>\n",
       "    </tr>\n",
       "    <tr>\n",
       "      <th>102</th>\n",
       "      <td>English</td>\n",
       "      <td>Shakespeare</td>\n",
       "      <td>Macbeth</td>\n",
       "      <td>16874</td>\n",
       "      <td>4780</td>\n",
       "    </tr>\n",
       "  </tbody>\n",
       "</table>\n",
       "</div>"
      ],
      "text/plain": [
       "    language       author                      title length unique\n",
       "96   English  Shakespeare                     Hamlet  28551   6776\n",
       "97   English  Shakespeare           Romeo and Juliet  40776   5231\n",
       "98   English  Shakespeare  A Midsummer Night's Dream  16103   4345\n",
       "99   English  Shakespeare     The Merchant of Venice  20949   4978\n",
       "100  English  Shakespeare                    Othello  26590   5898\n",
       "101  English  Shakespeare                Richard III  48315   5541\n",
       "102  English  Shakespeare                    Macbeth  16874   4780"
      ]
     },
     "execution_count": 65,
     "metadata": {},
     "output_type": "execute_result"
    }
   ],
   "source": [
    "stats[stats.language == 'English'] "
   ]
  },
  {
   "cell_type": "code",
   "execution_count": 68,
   "metadata": {},
   "outputs": [
    {
     "data": {
      "image/png": "[encoded data removed]",
      "text/plain": [
       "<Figure size 720x720 with 1 Axes>"
      ]
     },
     "metadata": {
      "needs_background": "light"
     },
     "output_type": "display_data"
    }
   ],
   "source": [
    "plt.figure(figsize=(10, 10))\n",
    "subset = stats[stats.language == 'English']\n",
    "plt.loglog(subset.length, subset.unique, 'o', label=\"English\", color='crimson')\n",
    "\n",
    "subset = stats[stats.language == 'French']\n",
    "plt.loglog(subset.length, subset.unique, 'o', label=\"French\", color='forestgreen')\n",
    "\n",
    "\n",
    "subset = stats[stats.language == 'German']\n",
    "plt.loglog(subset.length, subset.unique, 'o', label=\"German\", color='orange')\n",
    "\n",
    "\n",
    "subset = stats[stats.language == 'Portuguese']\n",
    "plt.loglog(subset.length, subset.unique, 'o', label=\"German\", color='blueviolet')\n",
    "\n",
    "plt.legend()\n",
    "plt.xlabel('Book Length')\n",
    "plt.ylabel('Unique Words')\n",
    "plt.title('Unique Words of Different Books of Different Languages') \n",
    "plt.tight_layout()\n",
    "plt.savefig('lang_plot.pdf')\n",
    "plt.show() "
   ]
  },
  {
   "cell_type": "code",
   "execution_count": null,
   "metadata": {},
   "outputs": [],
   "source": []
  }
 ],
 "metadata": {
  "kernelspec": {
   "display_name": "Python 3",
   "language": "python",
   "name": "python3"
  },
  "language_info": {
   "codemirror_mode": {
    "name": "ipython",
    "version": 3
   },
   "file_extension": ".py",
   "mimetype": "text/x-python",
   "name": "python",
   "nbconvert_exporter": "python",
   "pygments_lexer": "ipython3",
   "version": "3.8.3"
  },
  "latex_envs": {
   "LaTeX_envs_menu_present": true,
   "autoclose": false,
   "autocomplete": true,
   "bibliofile": "biblio.bib",
   "cite_by": "apalike",
   "current_citInitial": 1,
   "eqLabelWithNumbers": true,
   "eqNumInitial": 1,
   "hotkeys": {
    "equation": "Ctrl-E",
    "itemize": "Ctrl-I"
   },
   "labels_anchors": false,
   "latex_user_defs": false,
   "report_style_numbering": false,
   "user_envs_cfg": false
  }
 },
 "nbformat": 4,
 "nbformat_minor": 4
}
